{
 "cells": [
  {
   "cell_type": "code",
   "execution_count": null,
   "id": "f2be1227-3a2e-47d7-ad4c-cb26205f57f8",
   "metadata": {},
   "outputs": [],
   "source": [
    "import random\n",
    "\n",
    "# 物件數量\n",
    "num_items = 7\n",
    "\n",
    "# 物件權重\n",
    "weights = [41,50,49,59,55,57,60]\n",
    "\n",
    "# 物件利潤\n",
    "profits = [442,525,511,593,546,564,617]\n",
    "\n",
    "# 背包容量\n",
    "knapsack_capacity = 170\n",
    "\n",
    "# 每次搜索的次數\n",
    "iterations = 100\n",
    "\n",
    "def evaluate_knapsack(solution):\n",
    "    total_weight = 0\n",
    "    total_profit = 0\n",
    "    for i in range(num_items):\n",
    "        if solution[i] == 1:\n",
    "            total_weight += weights[i]\n",
    "            total_profit += profits[i]\n",
    "    if total_weight > knapsack_capacity:\n",
    "        return 0  # 不合法解返回 0\n",
    "    else:\n",
    "        return total_profit\n",
    "\n",
    "def climb():\n",
    "    current_solution = [random.randint(0, 1) for _ in range(num_items)]\n",
    "    best_solution = current_solution.copy()\n",
    "    best_profit = evaluate_knapsack(best_solution)\n",
    "    for _ in range(iterations):\n",
    "        # 隨機選擇一個物品進行變換\n",
    "        index_to_change = random.randint(0, num_items - 1)\n",
    "        current_solution[index_to_change] = 1 - current_solution[index_to_change]\n",
    "        current_profit = evaluate_knapsack(current_solution)\n",
    "        if current_profit > best_profit:\n",
    "            best_solution = current_solution.copy()\n",
    "            best_profit = current_profit\n",
    "        else:\n",
    "            # 恢復狀態\n",
    "            current_solution[index_to_change] = 1 - current_solution[index_to_change]\n",
    "        \n",
    "        print(best_profit)\n",
    "    return best_solution, best_profit\n",
    "\n",
    "best_solution, best_profit = climb()\n"
   ]
  }
 ],
 "metadata": {
  "kernelspec": {
   "display_name": "Python 3 (ipykernel)",
   "language": "python",
   "name": "python3"
  },
  "language_info": {
   "codemirror_mode": {
    "name": "ipython",
    "version": 3
   },
   "file_extension": ".py",
   "mimetype": "text/x-python",
   "name": "python",
   "nbconvert_exporter": "python",
   "pygments_lexer": "ipython3",
   "version": "3.11.7"
  }
 },
 "nbformat": 4,
 "nbformat_minor": 5
}
